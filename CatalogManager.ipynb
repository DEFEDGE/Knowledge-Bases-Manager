{
 "cells": [
  {
   "cell_type": "markdown",
   "metadata": {},
   "source": [
    "# Installation of Python libraries"
   ]
  },
  {
   "cell_type": "code",
   "execution_count": 2,
   "metadata": {},
   "outputs": [
    {
     "name": "stdout",
     "output_type": "stream",
     "text": [
      "Requirement already satisfied: stix2 in /Users/fefox/.pyenv/versions/3.13.0/envs/AttackGraphGen/lib/python3.13/site-packages (from -r requirements.txt (line 1)) (3.0.1)\n",
      "Requirement already satisfied: html2text in /Users/fefox/.pyenv/versions/3.13.0/envs/AttackGraphGen/lib/python3.13/site-packages (from -r requirements.txt (line 2)) (2024.2.26)\n",
      "Requirement already satisfied: numpy in /Users/fefox/.pyenv/versions/3.13.0/envs/AttackGraphGen/lib/python3.13/site-packages (from -r requirements.txt (line 3)) (2.2.2)\n",
      "Requirement already satisfied: pandas in /Users/fefox/.pyenv/versions/3.13.0/envs/AttackGraphGen/lib/python3.13/site-packages (from -r requirements.txt (line 4)) (2.2.3)\n",
      "Requirement already satisfied: tkintertable in /Users/fefox/.pyenv/versions/3.13.0/envs/AttackGraphGen/lib/python3.13/site-packages (from -r requirements.txt (line 5)) (1.3.3)\n",
      "Requirement already satisfied: tksheet in /Users/fefox/.pyenv/versions/3.13.0/envs/AttackGraphGen/lib/python3.13/site-packages (from -r requirements.txt (line 6)) (7.3.1)\n",
      "Requirement already satisfied: neo4j in /Users/fefox/.pyenv/versions/3.13.0/envs/AttackGraphGen/lib/python3.13/site-packages (from -r requirements.txt (line 7)) (5.27.0)\n",
      "Requirement already satisfied: python-dotenv in /Users/fefox/.pyenv/versions/3.13.0/envs/AttackGraphGen/lib/python3.13/site-packages (from -r requirements.txt (line 8)) (1.0.1)\n",
      "Requirement already satisfied: openpyxl in /Users/fefox/.pyenv/versions/3.13.0/envs/AttackGraphGen/lib/python3.13/site-packages (from -r requirements.txt (line 9)) (3.1.5)\n",
      "Requirement already satisfied: yake in /Users/fefox/.pyenv/versions/3.13.0/envs/AttackGraphGen/lib/python3.13/site-packages (from -r requirements.txt (line 10)) (0.4.8)\n",
      "Requirement already satisfied: yfiles_jupyter_graphs in /Users/fefox/.pyenv/versions/3.13.0/envs/AttackGraphGen/lib/python3.13/site-packages (from -r requirements.txt (line 11)) (1.10.1)\n",
      "Requirement already satisfied: pytz in /Users/fefox/.pyenv/versions/3.13.0/envs/AttackGraphGen/lib/python3.13/site-packages (from stix2->-r requirements.txt (line 1)) (2024.2)\n",
      "Requirement already satisfied: requests in /Users/fefox/.pyenv/versions/3.13.0/envs/AttackGraphGen/lib/python3.13/site-packages (from stix2->-r requirements.txt (line 1)) (2.32.3)\n",
      "Requirement already satisfied: simplejson in /Users/fefox/.pyenv/versions/3.13.0/envs/AttackGraphGen/lib/python3.13/site-packages (from stix2->-r requirements.txt (line 1)) (3.19.3)\n",
      "Requirement already satisfied: stix2-patterns>=1.2.0 in /Users/fefox/.pyenv/versions/3.13.0/envs/AttackGraphGen/lib/python3.13/site-packages (from stix2->-r requirements.txt (line 1)) (2.0.0)\n",
      "Requirement already satisfied: python-dateutil>=2.8.2 in /Users/fefox/.pyenv/versions/3.13.0/envs/AttackGraphGen/lib/python3.13/site-packages (from pandas->-r requirements.txt (line 4)) (2.9.0.post0)\n",
      "Requirement already satisfied: tzdata>=2022.7 in /Users/fefox/.pyenv/versions/3.13.0/envs/AttackGraphGen/lib/python3.13/site-packages (from pandas->-r requirements.txt (line 4)) (2025.1)\n",
      "Requirement already satisfied: future in /Users/fefox/.pyenv/versions/3.13.0/envs/AttackGraphGen/lib/python3.13/site-packages (from tkintertable->-r requirements.txt (line 5)) (1.0.0)\n",
      "Requirement already satisfied: et-xmlfile in /Users/fefox/.pyenv/versions/3.13.0/envs/AttackGraphGen/lib/python3.13/site-packages (from openpyxl->-r requirements.txt (line 9)) (2.0.0)\n",
      "Requirement already satisfied: tabulate in /Users/fefox/.pyenv/versions/3.13.0/envs/AttackGraphGen/lib/python3.13/site-packages (from yake->-r requirements.txt (line 10)) (0.9.0)\n",
      "Requirement already satisfied: click>=6.0 in /Users/fefox/.pyenv/versions/3.13.0/envs/AttackGraphGen/lib/python3.13/site-packages (from yake->-r requirements.txt (line 10)) (8.1.8)\n",
      "Requirement already satisfied: segtok in /Users/fefox/.pyenv/versions/3.13.0/envs/AttackGraphGen/lib/python3.13/site-packages (from yake->-r requirements.txt (line 10)) (1.5.11)\n",
      "Requirement already satisfied: networkx in /Users/fefox/.pyenv/versions/3.13.0/envs/AttackGraphGen/lib/python3.13/site-packages (from yake->-r requirements.txt (line 10)) (3.4.2)\n",
      "Requirement already satisfied: jellyfish in /Users/fefox/.pyenv/versions/3.13.0/envs/AttackGraphGen/lib/python3.13/site-packages (from yake->-r requirements.txt (line 10)) (1.1.3)\n",
      "Requirement already satisfied: ipywidgets>=8.0.0 in /Users/fefox/.pyenv/versions/3.13.0/envs/AttackGraphGen/lib/python3.13/site-packages (from yfiles_jupyter_graphs->-r requirements.txt (line 11)) (8.1.5)\n",
      "Requirement already satisfied: comm>=0.1.3 in /Users/fefox/.pyenv/versions/3.13.0/envs/AttackGraphGen/lib/python3.13/site-packages (from ipywidgets>=8.0.0->yfiles_jupyter_graphs->-r requirements.txt (line 11)) (0.2.2)\n",
      "Requirement already satisfied: ipython>=6.1.0 in /Users/fefox/.pyenv/versions/3.13.0/envs/AttackGraphGen/lib/python3.13/site-packages (from ipywidgets>=8.0.0->yfiles_jupyter_graphs->-r requirements.txt (line 11)) (8.31.0)\n",
      "Requirement already satisfied: traitlets>=4.3.1 in /Users/fefox/.pyenv/versions/3.13.0/envs/AttackGraphGen/lib/python3.13/site-packages (from ipywidgets>=8.0.0->yfiles_jupyter_graphs->-r requirements.txt (line 11)) (5.14.3)\n",
      "Requirement already satisfied: widgetsnbextension~=4.0.12 in /Users/fefox/.pyenv/versions/3.13.0/envs/AttackGraphGen/lib/python3.13/site-packages (from ipywidgets>=8.0.0->yfiles_jupyter_graphs->-r requirements.txt (line 11)) (4.0.13)\n",
      "Requirement already satisfied: jupyterlab-widgets~=3.0.12 in /Users/fefox/.pyenv/versions/3.13.0/envs/AttackGraphGen/lib/python3.13/site-packages (from ipywidgets>=8.0.0->yfiles_jupyter_graphs->-r requirements.txt (line 11)) (3.0.13)\n",
      "Requirement already satisfied: six>=1.5 in /Users/fefox/.pyenv/versions/3.13.0/envs/AttackGraphGen/lib/python3.13/site-packages (from python-dateutil>=2.8.2->pandas->-r requirements.txt (line 4)) (1.17.0)\n",
      "Requirement already satisfied: antlr4-python3-runtime~=4.9.0 in /Users/fefox/.pyenv/versions/3.13.0/envs/AttackGraphGen/lib/python3.13/site-packages (from stix2-patterns>=1.2.0->stix2->-r requirements.txt (line 1)) (4.9.3)\n",
      "Requirement already satisfied: charset-normalizer<4,>=2 in /Users/fefox/.pyenv/versions/3.13.0/envs/AttackGraphGen/lib/python3.13/site-packages (from requests->stix2->-r requirements.txt (line 1)) (3.4.1)\n",
      "Requirement already satisfied: idna<4,>=2.5 in /Users/fefox/.pyenv/versions/3.13.0/envs/AttackGraphGen/lib/python3.13/site-packages (from requests->stix2->-r requirements.txt (line 1)) (3.10)\n",
      "Requirement already satisfied: urllib3<3,>=1.21.1 in /Users/fefox/.pyenv/versions/3.13.0/envs/AttackGraphGen/lib/python3.13/site-packages (from requests->stix2->-r requirements.txt (line 1)) (2.3.0)\n",
      "Requirement already satisfied: certifi>=2017.4.17 in /Users/fefox/.pyenv/versions/3.13.0/envs/AttackGraphGen/lib/python3.13/site-packages (from requests->stix2->-r requirements.txt (line 1)) (2024.12.14)\n",
      "Requirement already satisfied: regex in /Users/fefox/.pyenv/versions/3.13.0/envs/AttackGraphGen/lib/python3.13/site-packages (from segtok->yake->-r requirements.txt (line 10)) (2024.11.6)\n",
      "Requirement already satisfied: decorator in /Users/fefox/.pyenv/versions/3.13.0/envs/AttackGraphGen/lib/python3.13/site-packages (from ipython>=6.1.0->ipywidgets>=8.0.0->yfiles_jupyter_graphs->-r requirements.txt (line 11)) (5.1.1)\n",
      "Requirement already satisfied: jedi>=0.16 in /Users/fefox/.pyenv/versions/3.13.0/envs/AttackGraphGen/lib/python3.13/site-packages (from ipython>=6.1.0->ipywidgets>=8.0.0->yfiles_jupyter_graphs->-r requirements.txt (line 11)) (0.19.2)\n",
      "Requirement already satisfied: matplotlib-inline in /Users/fefox/.pyenv/versions/3.13.0/envs/AttackGraphGen/lib/python3.13/site-packages (from ipython>=6.1.0->ipywidgets>=8.0.0->yfiles_jupyter_graphs->-r requirements.txt (line 11)) (0.1.7)\n",
      "Requirement already satisfied: pexpect>4.3 in /Users/fefox/.pyenv/versions/3.13.0/envs/AttackGraphGen/lib/python3.13/site-packages (from ipython>=6.1.0->ipywidgets>=8.0.0->yfiles_jupyter_graphs->-r requirements.txt (line 11)) (4.9.0)\n",
      "Requirement already satisfied: prompt_toolkit<3.1.0,>=3.0.41 in /Users/fefox/.pyenv/versions/3.13.0/envs/AttackGraphGen/lib/python3.13/site-packages (from ipython>=6.1.0->ipywidgets>=8.0.0->yfiles_jupyter_graphs->-r requirements.txt (line 11)) (3.0.50)\n",
      "Requirement already satisfied: pygments>=2.4.0 in /Users/fefox/.pyenv/versions/3.13.0/envs/AttackGraphGen/lib/python3.13/site-packages (from ipython>=6.1.0->ipywidgets>=8.0.0->yfiles_jupyter_graphs->-r requirements.txt (line 11)) (2.19.1)\n",
      "Requirement already satisfied: stack_data in /Users/fefox/.pyenv/versions/3.13.0/envs/AttackGraphGen/lib/python3.13/site-packages (from ipython>=6.1.0->ipywidgets>=8.0.0->yfiles_jupyter_graphs->-r requirements.txt (line 11)) (0.6.3)\n",
      "Requirement already satisfied: parso<0.9.0,>=0.8.4 in /Users/fefox/.pyenv/versions/3.13.0/envs/AttackGraphGen/lib/python3.13/site-packages (from jedi>=0.16->ipython>=6.1.0->ipywidgets>=8.0.0->yfiles_jupyter_graphs->-r requirements.txt (line 11)) (0.8.4)\n",
      "Requirement already satisfied: ptyprocess>=0.5 in /Users/fefox/.pyenv/versions/3.13.0/envs/AttackGraphGen/lib/python3.13/site-packages (from pexpect>4.3->ipython>=6.1.0->ipywidgets>=8.0.0->yfiles_jupyter_graphs->-r requirements.txt (line 11)) (0.7.0)\n",
      "Requirement already satisfied: wcwidth in /Users/fefox/.pyenv/versions/3.13.0/envs/AttackGraphGen/lib/python3.13/site-packages (from prompt_toolkit<3.1.0,>=3.0.41->ipython>=6.1.0->ipywidgets>=8.0.0->yfiles_jupyter_graphs->-r requirements.txt (line 11)) (0.2.13)\n",
      "Requirement already satisfied: executing>=1.2.0 in /Users/fefox/.pyenv/versions/3.13.0/envs/AttackGraphGen/lib/python3.13/site-packages (from stack_data->ipython>=6.1.0->ipywidgets>=8.0.0->yfiles_jupyter_graphs->-r requirements.txt (line 11)) (2.2.0)\n",
      "Requirement already satisfied: asttokens>=2.1.0 in /Users/fefox/.pyenv/versions/3.13.0/envs/AttackGraphGen/lib/python3.13/site-packages (from stack_data->ipython>=6.1.0->ipywidgets>=8.0.0->yfiles_jupyter_graphs->-r requirements.txt (line 11)) (3.0.0)\n",
      "Requirement already satisfied: pure-eval in /Users/fefox/.pyenv/versions/3.13.0/envs/AttackGraphGen/lib/python3.13/site-packages (from stack_data->ipython>=6.1.0->ipywidgets>=8.0.0->yfiles_jupyter_graphs->-r requirements.txt (line 11)) (0.2.3)\n",
      "\n",
      "\u001b[1m[\u001b[0m\u001b[34;49mnotice\u001b[0m\u001b[1;39;49m]\u001b[0m\u001b[39;49m A new release of pip is available: \u001b[0m\u001b[31;49m24.2\u001b[0m\u001b[39;49m -> \u001b[0m\u001b[32;49m24.3.1\u001b[0m\n",
      "\u001b[1m[\u001b[0m\u001b[34;49mnotice\u001b[0m\u001b[1;39;49m]\u001b[0m\u001b[39;49m To update, run: \u001b[0m\u001b[32;49mpip install --upgrade pip\u001b[0m\n"
     ]
    }
   ],
   "source": [
    "!pip install -r requirements.txt"
   ]
  },
  {
   "cell_type": "markdown",
   "metadata": {},
   "source": [
    "## Import of libraries and definition of functions"
   ]
  },
  {
   "cell_type": "code",
   "execution_count": 3,
   "metadata": {
    "notebookRunGroups": {
     "groupValue": "123"
    }
   },
   "outputs": [],
   "source": [
    "from stix2 import FileSystemStore, FileSystemSource\n",
    "import os\n",
    "import pandas as pd\n",
    "import numpy as np\n",
    "from neo4j import GraphDatabase, Result\n",
    "from yfiles_jupyter_graphs import GraphWidget\n",
    "from html2text import html2text as h2t\n",
    "import re\n",
    "from functools import reduce\n",
    "from dotenv import load_dotenv\n",
    "\n",
    "# neo4j setup\n",
    "load_dotenv()\n",
    "URI_NEO4J = os.getenv(\"URI_NEO4J\")\n",
    "USER_NEO4J = os.getenv(\"USER_NEO4J\")\n",
    "PASS_NEO4J = os.getenv(\"PASS_NEO4J\")\n",
    "\n",
    "stix_path = './capec_stix'\n",
    "attack_pattern_path = f'{stix_path}/attack-pattern'\n",
    "fs = FileSystemStore(stix_dir=stix_path, bundlify=False)\n",
    "fs_source = FileSystemSource(stix_dir=stix_path)\n",
    "\n",
    "macm_file = \"Wordpress.macm\"\n",
    "\n",
    "# pandas setup\n",
    "pd.set_option('display.max_columns', None)\n",
    "pd.set_option('max_colwidth', None)\n",
    "pd.set_option('display.max_rows', None)\n",
    "pd.options.mode.chained_assignment = None  # default='warn'"
   ]
  },
  {
   "cell_type": "markdown",
   "metadata": {},
   "source": [
    "### Definition of data loading functions in dataframes"
   ]
  },
  {
   "cell_type": "code",
   "execution_count": 4,
   "metadata": {
    "notebookRunGroups": {
     "groupValue": "123"
    }
   },
   "outputs": [],
   "source": [
    "def string_to_list(string: str, sepator=r'[ ,]+'):\n",
    "    if string is None:\n",
    "        return None\n",
    "    else:\n",
    "        return re.split(sepator, string)\n",
    "\n",
    "def string_to_int_list(string: str, sepator=r'[ ,]+'):\n",
    "    if string in [None, '', 'None']:\n",
    "        return None\n",
    "    else:\n",
    "        return [int(x) for x in re.split(sepator, string)]\n",
    "    \n",
    "def sub_string(string):\n",
    "    if string is None:\n",
    "        return None\n",
    "    else:\n",
    "        subs = {'*': '', '#': ''}\n",
    "        string = h2t(str(string))   # convert html in certain columns to text\n",
    "        string = string.translate(str.maketrans(subs))\n",
    "        string = re.sub(r'(\\S)\\n(\\S)', r'\\1 \\2', string)\n",
    "        string = string.replace('\\n ', '\\n')\n",
    "        return string\n",
    "\n",
    "def list_to_string(list: list, sepator='\\n\\n'):\n",
    "    if list is None:\n",
    "        return None\n",
    "    else:\n",
    "        return sepator.join(list)\n",
    "\n",
    "def dict_to_string(dict: dict):\n",
    "    if dict is None:\n",
    "        return None\n",
    "    else:\n",
    "        return '\\n\\n'.join([f\"{k}: {v}\" for k, v in dict.items()])\n",
    "    \n",
    "def external_references_to_string(list: list):\n",
    "    output = ''\n",
    "    if list is None:\n",
    "        return None\n",
    "    else:\n",
    "        for reference in list:\n",
    "            for key in reference:\n",
    "                output += f\"{key}: {reference[key]}\\n\"\n",
    "            output += '\\n'\n",
    "        output = output[:-2] # remove last \\n\\n\n",
    "        return output\n",
    "\n",
    "def convert_column_to_text(df: pd.DataFrame):\n",
    "    for column in ['x_capec_can_follow_refs', 'x_capec_domains', 'object_marking_refs', 'x_capec_prerequisites', 'x_capec_alternate_terms', 'x_capec_can_precede_refs', 'x_capec_resources_required', 'x_capec_example_instances']:\n",
    "        df[column] = df[column].apply(lambda x: list_to_string(x))\n",
    "\n",
    "    for column in ['description','x_capec_execution_flow', 'x_capec_extended_description', 'x_capec_example_instances', 'x_capec_resources_required']:\n",
    "        df[column] = df[column].apply(lambda x: sub_string(x))\n",
    "\n",
    "    for column in ['x_capec_consequences', 'x_capec_skills_required']:\n",
    "        df[column] = df[column].apply(lambda x: dict_to_string(x))\n",
    "\n",
    "    for column in ['external_references']:\n",
    "        df[column] = df[column].apply(lambda x: external_references_to_string(x))\n",
    "    return df\n",
    "\n",
    "def convert_column_to_text_4_panel(df: pd.DataFrame):\n",
    "    for column in ['x_capec_consequences', 'x_capec_skills_required']:\n",
    "        df[column] = df[column].apply(lambda x: dict_to_string(x))\n",
    "\n",
    "    for column in ['external_references']:\n",
    "        df[column] = df[column].apply(lambda x: external_references_to_string(x))\n",
    "    return df\n",
    "\n",
    "def truncate_string_middle(s, n):\n",
    "    if len(s) <= n:\n",
    "        # string is already short-enough\n",
    "        return s\n",
    "    # half of the size, minus the 3 .'s\n",
    "    n_2 = int(n) // 2 - 3\n",
    "    # whatever's left\n",
    "    n_1 = n - n_2 - 3\n",
    "    return '{0}...{1}'.format(s[:n_1], s[-n_2:])\n",
    "\n",
    "def convert_ids_to_capec_ids(df: pd.DataFrame):\n",
    "    df['capec_id'] = df['external_references'].apply(lambda x: int(x[0]['external_id'].split('-')[1]) if x[0]['source_name'] == 'capec' else None)\n",
    "    df['capec_childs_id'] = df['x_capec_parent_of_refs'].apply(lambda ids: [int(df.loc[id]['capec_id']) for id in ids] if ids is not None or [] else None)\n",
    "    df['capec_parents_id'] = df['x_capec_child_of_refs'].apply(lambda ids: [int(df.loc[id]['capec_id']) for id in ids] if ids is not None or [] else None)\n",
    "    return df\n",
    "\n",
    "def highlight_attack_patterns(s):\n",
    "    if s.x_capec_abstraction == 'Meta':\n",
    "        return ['background-color: #5CC0FF']*len(s)\n",
    "    elif s.x_capec_abstraction == 'Standard':\n",
    "        return ['background-color: #85D0FF']*len(s)\n",
    "    elif s.x_capec_abstraction == 'Detailed':\n",
    "        return ['background-color: #ADE0FF']*len(s)\n",
    "    else:\n",
    "        return ['']\n",
    "\n",
    "def style_df(df_styler):\n",
    "    border = '1px solid black !important'\n",
    "    df_styler.set_table_styles([\n",
    "        {'selector': 'th', 'props': [('text-align', 'left'), ('border', border)]},\n",
    "        {'selector': 'td tbody', 'props': [('border', border)]},\n",
    "        {'selector': 'td', 'props': [('text-align', 'left'), ('border', border), ('max-width', '400px !important'), ('word-wrap', 'break-word'), ('vertical-align', 'top'), ('white-space', 'pre-line')]}\n",
    "    ])\n",
    "    df_styler.apply(highlight_attack_patterns, axis=1)\n",
    "    return df_styler\n",
    "    \n",
    "def capec_abstraction_sort(df: pd.DataFrame):\n",
    "    sorter = ['Meta', 'Standard', 'Detailed']\n",
    "    df['x_capec_abstraction'] = pd.Categorical(df['x_capec_abstraction'], categories=sorter, ordered=True)\n",
    "    df = df.sort_values(['x_capec_abstraction', 'capec_id'], ascending=[True, True])\n",
    "    return df.style.pipe(style_df)"
   ]
  },
  {
   "cell_type": "code",
   "execution_count": 5,
   "metadata": {
    "notebookRunGroups": {
     "groupValue": "123"
    }
   },
   "outputs": [],
   "source": [
    "def load_threat_catalog(filename):\n",
    "    df = pd.read_excel(filename, sheet_name=\"Threat Components\", header=0)\n",
    "    df.replace(np.nan, None, inplace=True) # replace NaN with None\n",
    "    df.set_index('TID', inplace=True)\n",
    "    df = df.astype('str')\n",
    "    columns_to_convert = ['CapecMeta', 'CapecStandard', 'CapecDetailed']\n",
    "    for column in columns_to_convert:\n",
    "        df[column] = df[column].apply(lambda x: string_to_list(x))\n",
    "    df['Asset'] = df['Asset'].apply(lambda x: x.replace('.', '_'))\n",
    "    return df\n",
    "\n",
    "def load_attack_patterns():\n",
    "    attack_pattern_list = []\n",
    "    for attack_pattern in [x.removesuffix(\".json\") for x in os.listdir(attack_pattern_path)]:\n",
    "        ap = fs.get(attack_pattern)\n",
    "        attack_pattern_list.append(ap)\n",
    "    attack_pattern_df = pd.DataFrame(attack_pattern_list)\n",
    "    attack_pattern_df.set_index('id', inplace=True)\n",
    "    attack_pattern_df.replace(np.nan, None, inplace=True) # replace NaN with None\n",
    "    attack_pattern_df = convert_ids_to_capec_ids(attack_pattern_df)\n",
    "    attack_pattern_df.set_index('capec_id', inplace=True)\n",
    "    attack_pattern_df.drop(['x_capec_parent_of_refs', 'x_capec_child_of_refs'], axis=1, inplace=True)\n",
    "    attack_pattern_df.index = pd.CategoricalIndex(attack_pattern_df.index, sorted(attack_pattern_df.index.to_list(), key=lambda x: int(x)))\n",
    "    return attack_pattern_df\n",
    "\n",
    "def dataframe_to_str(df: pd.DataFrame):\n",
    "    df_str = df.copy() # copy the dataframe\n",
    "    df_str = convert_column_to_text(df_str) # convert all columns to text\n",
    "    df_str = df_str.astype(str).copy() # convert all columns to string\n",
    "    return df_str\n",
    "\n",
    "def get_child_attack_patterns_by_id(parent_id, attack_pattern_df: pd.DataFrame):\n",
    "    try:\n",
    "        return attack_pattern_df.loc[parent_id].get('capec_childs_id') or []\n",
    "    except:\n",
    "        return None\n",
    "\n",
    "def get_child_attack_patterns_recursive(parent_id, attack_pattern_df: pd.DataFrame) -> list:\n",
    "    childs = get_child_attack_patterns_by_id(parent_id, attack_pattern_df)\n",
    "    if childs is None:\n",
    "        return []\n",
    "    else:\n",
    "        for child in childs:\n",
    "            childs += get_child_attack_patterns_recursive(child, attack_pattern_df)\n",
    "        return childs\n",
    "\n",
    "def get_child_attack_patterns(parent_ids, attack_pattern_df: pd.DataFrame, show_tree=False, show_columns=['name', 'capec_parents_id', 'capec_childs_id', 'x_capec_abstraction', 'description', 'x_capec_extended_description']):\n",
    "    if type(parent_ids) is not list: parent_ids = [parent_ids]\n",
    "    childs = [parent_id for parent_id in parent_ids]\n",
    "    if show_tree:\n",
    "        childs += [child for parent_id in parent_ids for child in get_child_attack_patterns_recursive(parent_id, attack_pattern_df)]\n",
    "    childs = list(set(childs))\n",
    "    try:\n",
    "        response = attack_pattern_df.loc[childs][show_columns]\n",
    "        return response\n",
    "    except:\n",
    "        return None\n",
    "\n",
    "def query_attack_patterns(attack_pattern_df: pd.DataFrame, keywords, search_columns:list=['description'], ap_type:list=['Meta', 'Standard', 'Detailed'], show_columns=['name', 'capec_parents_id', 'capec_childs_id', 'x_capec_abstraction', 'description', 'x_capec_extended_description'], query_type='or'):\n",
    "    if query_type == 'or':\n",
    "        keywords = '|'.join(keywords)\n",
    "    elif query_type == 'and':\n",
    "        keywords = r'(?=.*' + r')(?=.*'.join(keywords) + r')'\n",
    "    else:\n",
    "        raise Exception('query_type must be \"or\" or \"and\"')\n",
    "    inds = [attack_pattern_df[x].str.lower().str.contains(keywords.lower()) for x in search_columns]\n",
    "    type_inds = [attack_pattern_df['x_capec_abstraction'].isin([x]) for x in ap_type]\n",
    "    response = attack_pattern_df[(reduce(lambda x, y: x | y, inds)) & (reduce(lambda x, y: x | y, type_inds))][show_columns].sort_values(by=['x_capec_abstraction'])\n",
    "    return response\n",
    "\n",
    "def read_macm(driver):\n",
    "    macm_df = driver.execute_query(\"MATCH (asset) RETURN asset.component_id, asset.application, asset.name, asset.type, asset.app_id\", database_='macm', result_transformer_=Result.to_df)\n",
    "    macm_df.columns = ['Component ID', 'Application', 'Name', 'Type', 'App ID']\n",
    "    return macm_df"
   ]
  },
  {
   "cell_type": "markdown",
   "metadata": {},
   "source": [
    "### Definition of data loading functions in Neo4j"
   ]
  },
  {
   "cell_type": "code",
   "execution_count": 6,
   "metadata": {
    "notebookRunGroups": {
     "groupValue": "31"
    }
   },
   "outputs": [],
   "source": [
    "def clear_database(driver, database):\n",
    "    driver.execute_query(\"MATCH (n) DETACH DELETE n\", database_=database)\n",
    "\n",
    "def create_capec_db(driver, attack_pattern_df: pd.DataFrame, database=\"capec\", show_parent_relationship=True):\n",
    "    attack_pattern_df_str = dataframe_to_str(attack_pattern_df)\n",
    "    for index, row in attack_pattern_df_str.iterrows():\n",
    "        driver.execute_query('''\n",
    "                MERGE (a:'''+ row['x_capec_abstraction'] + ''' {\n",
    "                        Capec_Id:$id,\n",
    "                        Name:$name,\n",
    "                        Created: $created,\n",
    "                        Created_By_Ref:$created_by_ref, \n",
    "                        Description:$description,\n",
    "                        External_References:$external_references,\n",
    "                        Modified:$modified,\n",
    "                        Object_Marking_Refs:$object_marking_refs,\n",
    "                        Revoked:$revoked,\n",
    "                        Spec_Version:$spec_version,\n",
    "                        Type:$type, \n",
    "                        Abstraction:$x_capec_abstraction,\n",
    "                        Alternate_Terms:$x_capec_alternate_terms,\n",
    "                        Can_Follow_Refs:$x_capec_can_follow_refs,\n",
    "                        Can_Precede_Refs:$x_capec_can_precede_refs,\n",
    "                        Child_Of_Refs:$capec_parents_id,\n",
    "                        Consequences:$x_capec_consequences,\n",
    "                        Domains:$x_capec_domains,\n",
    "                        Example_Instances:$x_capec_example_instances,\n",
    "                        Execution_Flow:$x_capec_execution_flow,\n",
    "                        Extended_Description:$x_capec_extended_description,\n",
    "                        Likelihood_Of_Attack:$x_capec_likelihood_of_attack,\n",
    "                        Parent_Of_Refs:$capec_childs_id,\n",
    "                        Peer_Of_Refs:$x_capec_peer_of_refs,\n",
    "                        Prerequisites:$x_capec_prerequisites,\n",
    "                        Resources_Required:$x_capec_resources_required,\n",
    "                        Skills_Required:$x_capec_skills_required,\n",
    "                        Status:$x_capec_status,\n",
    "                        Typical_Severity:$x_capec_typical_severity,\n",
    "                        Version:$x_capec_version\n",
    "                    })\n",
    "                ''', parameters_={'id': index} | row.to_dict(), database_=database)\n",
    "    if show_parent_relationship:\n",
    "        parents = [\"Meta\", \"Standard\"]\n",
    "        for parent_type in parents:\n",
    "            for parent in attack_pattern_df.query(f\"x_capec_abstraction == '{parent_type}'\").index:\n",
    "                parent_attack_pattern = attack_pattern_df.loc[parent]\n",
    "                for child in get_child_attack_patterns_by_id(parent, attack_pattern_df):\n",
    "                    if child in attack_pattern_df.index:\n",
    "                        driver.execute_query(f\"\"\"\n",
    "                            MATCH (parent {{Capec_Id: {parent_attack_pattern.name}}}),\n",
    "                                    (child {{Capec_Id: {attack_pattern_df.loc[child].name}}})\n",
    "                            MERGE (parent)-[:parent_of]->(child)\n",
    "                        \"\"\", database_=database)\n",
    "\n",
    "def create_threat_catalog_db(driver, threat_catalog_df: pd.DataFrame, database=\"threats\"):\n",
    "    for index, row in threat_catalog_df.iterrows():\n",
    "        driver.execute_query('''\n",
    "                MERGE (a:'''+ row['Asset'] + ''' {\n",
    "                        TID:$TID,\n",
    "                        Asset:$Asset,\n",
    "                        Threat:$Threat,\n",
    "                        Description:$Description,\n",
    "                        STRIDE:$STRIDE,\n",
    "                        Compromised:$Compromised,\n",
    "                        PreConfidentiality:$PreC,\n",
    "                        PreIntegrity:$PreI,\n",
    "                        PreAvailability:$PreA,\n",
    "                        PreCondition:$Precondition,\n",
    "                        PostConfidentiality:$PostC,\n",
    "                        PostIntegrity:$PostI,\n",
    "                        PostAvailability:$PostA,\n",
    "                        PostCondition:$PostCondition,\n",
    "                        CapecMeta:$CapecMeta,\n",
    "                        CapecStandard:$CapecStandard,\n",
    "                        CapecDetailed:$CapecDetailed\n",
    "                    })\n",
    "                ''', parameters_={'TID': index} | row.to_dict(), database_=database)\n",
    "        \n",
    "def create_unified_db(driver, attack_pattern_df: pd.DataFrame, threat_catalog_df: pd.DataFrame, database=\"capecthreats\"):\n",
    "    create_capec_db(driver, attack_pattern_df, database)\n",
    "    create_threat_catalog_db(driver, threat_catalog_df, database)\n",
    "    for index, row in threat_catalog_df.iterrows():\n",
    "        for capec_id in row['CapecMeta'] + row['CapecStandard'] + row['CapecDetailed']:\n",
    "            if capec_id != 'None':\n",
    "                driver.execute_query(f\"\"\"\n",
    "                    MATCH (threat {{TID: \"{index}\"}}),\n",
    "                            (capec {{Capec_Id: {capec_id}}})\n",
    "                    CALL apoc.create.relationship(threat, \"has_capec_\" + capec.Abstraction, NULL, capec) YIELD rel\n",
    "                    RETURN rel\n",
    "                \"\"\", database_=database)\n",
    "\n",
    "def create_enhanched_macm_db(driver, attack_pattern_df: pd.DataFrame, threat_catalog_df: pd.DataFrame, macm_df:pd.DataFrame, macm_file, database=\"emacm\"):\n",
    "    load_macm(macm_file, driver, database)\n",
    "    for index, row in macm_df.iterrows():\n",
    "        related_threat_catalog_df = threat_catalog_df[threat_catalog_df['Asset'] == row['Type'].replace('.', '_')]\n",
    "        related_attack_pattern = [int(id) for ids in related_threat_catalog_df['CapecMeta'].to_list() + related_threat_catalog_df['CapecStandard'].to_list() + related_threat_catalog_df['CapecDetailed'].to_list() for id in ids if id != 'None']\n",
    "        related_attack_pattern = list(set(related_attack_pattern))\n",
    "        related_attack_pattern_df = attack_pattern_df.loc[related_attack_pattern]\n",
    "        create_capec_db(driver, related_attack_pattern_df, database, show_parent_relationship=False)\n",
    "        for capec_id in related_attack_pattern:\n",
    "            if capec_id != 'None':\n",
    "                driver.execute_query(f\"\"\"\n",
    "                    MATCH (macm {{component_id: \"{row['Component ID']}\"}}),\n",
    "                            (capec {{Capec_Id: {capec_id}}})\n",
    "                    CALL apoc.create.relationship(macm, \"has_capec_\" + capec.Abstraction, NULL, capec) YIELD rel\n",
    "                    RETURN rel\n",
    "                \"\"\", database_=database)\n",
    "\n",
    "def load_macm(filename, driver, database='macm'):\n",
    "    with open(filename, 'r') as f:\n",
    "        query = f.read()\n",
    "        driver.execute_query(query, database_=database)"
   ]
  },
  {
   "cell_type": "markdown",
   "metadata": {},
   "source": [
    "## Loading Attack Patterns and Threat Catalog into DataFrames"
   ]
  },
  {
   "cell_type": "code",
   "execution_count": 7,
   "metadata": {
    "notebookRunGroups": {
     "groupValue": "13"
    }
   },
   "outputs": [],
   "source": [
    "attack_pattern_df = load_attack_patterns()\n",
    "threat_catalog_df = load_threat_catalog(\"ThreatCatalogComplete.xlsx\")"
   ]
  },
  {
   "cell_type": "markdown",
   "metadata": {},
   "source": [
    "Convert the DataFrame columns to strings for compatibility with Neo4j"
   ]
  },
  {
   "cell_type": "code",
   "execution_count": 8,
   "metadata": {
    "notebookRunGroups": {
     "groupValue": "31"
    }
   },
   "outputs": [],
   "source": [
    "attack_pattern_df_str = dataframe_to_str(attack_pattern_df)"
   ]
  },
  {
   "cell_type": "markdown",
   "metadata": {},
   "source": [
    "## Loading databases into Neo4j"
   ]
  },
  {
   "cell_type": "markdown",
   "metadata": {},
   "source": [
    "Connecting to the Neo4j database"
   ]
  },
  {
   "cell_type": "code",
   "execution_count": 9,
   "metadata": {
    "notebookRunGroups": {
     "groupValue": "231"
    }
   },
   "outputs": [],
   "source": [
    "driver = GraphDatabase.driver(URI_NEO4J, auth=(USER_NEO4J, PASS_NEO4J))\n",
    "driver.verify_connectivity()"
   ]
  },
  {
   "cell_type": "markdown",
   "metadata": {},
   "source": [
    "Creation of the Capec graph"
   ]
  },
  {
   "cell_type": "code",
   "execution_count": 10,
   "metadata": {
    "notebookRunGroups": {
     "groupValue": "3"
    }
   },
   "outputs": [],
   "source": [
    "clear_database(driver, 'capec')\n",
    "create_capec_db(driver, attack_pattern_df=attack_pattern_df)"
   ]
  },
  {
   "cell_type": "markdown",
   "metadata": {},
   "source": [
    "Creation of the Threat Catalog graph"
   ]
  },
  {
   "cell_type": "code",
   "execution_count": 11,
   "metadata": {
    "notebookRunGroups": {
     "groupValue": "3"
    }
   },
   "outputs": [],
   "source": [
    "clear_database(driver, \"threats\")\n",
    "create_threat_catalog_db(driver, threat_catalog_df)"
   ]
  },
  {
   "cell_type": "markdown",
   "metadata": {},
   "source": [
    "Creation of the Capec-Threat Catalog graph"
   ]
  },
  {
   "cell_type": "code",
   "execution_count": 12,
   "metadata": {
    "notebookRunGroups": {
     "groupValue": "3"
    }
   },
   "outputs": [],
   "source": [
    "clear_database(driver, \"capecthreats\")\n",
    "create_unified_db(driver, threat_catalog_df=threat_catalog_df, attack_pattern_df=attack_pattern_df, database=\"capecthreats\")"
   ]
  },
  {
   "cell_type": "markdown",
   "metadata": {},
   "source": [
    "## Load the MACM data into Neo4j"
   ]
  },
  {
   "cell_type": "markdown",
   "metadata": {},
   "source": [
    "Loading the MACM of the system under examination into Neo4j"
   ]
  },
  {
   "cell_type": "code",
   "execution_count": 13,
   "metadata": {
    "notebookRunGroups": {
     "groupValue": "3"
    }
   },
   "outputs": [],
   "source": [
    "clear_database(driver, \"macm\")\n",
    "load_macm(macm_file, driver)"
   ]
  },
  {
   "cell_type": "code",
   "execution_count": 24,
   "metadata": {},
   "outputs": [
    {
     "data": {
      "application/vnd.jupyter.widget-view+json": {
       "model_id": "8d725384013940f880d756d81bb970ac",
       "version_major": 2,
       "version_minor": 0
      },
      "text/plain": [
       "GraphWidget(layout=Layout(height='500px', width='100%'))"
      ]
     },
     "metadata": {},
     "output_type": "display_data"
    }
   ],
   "source": [
    "with driver.session(database=\"macm\") as session:\n",
    "    query_out = session.run(\"MATCH a=((n)-[r1]->(p)) RETURN a\").graph()\n",
    "macm_graph = GraphWidget(graph=query_out)\n",
    "macm_graph.directed = True\n",
    "macm_graph.set_sidebar(enabled=True, start_with=\"Neighborhood\")\n",
    "macm_graph.show()"
   ]
  },
  {
   "cell_type": "markdown",
   "metadata": {},
   "source": [
    "## Representation of the Capec graph with an external library"
   ]
  },
  {
   "cell_type": "code",
   "execution_count": 14,
   "metadata": {
    "notebookRunGroups": {
     "groupValue": "2"
    }
   },
   "outputs": [
    {
     "data": {
      "application/vnd.jupyter.widget-view+json": {
       "model_id": "b7744dc8bc2f495c8ba8880c08c5fa98",
       "version_major": 2,
       "version_minor": 0
      },
      "text/plain": [
       "GraphWidget(layout=Layout(height='800px', width='100%'))"
      ]
     },
     "metadata": {},
     "output_type": "display_data"
    }
   ],
   "source": [
    "node_styles = {\n",
    "    \"Meta\": {\"color\": \"red\", \"label\": \"Name\"},\n",
    "    \"Standard\": {\"color\": \"blue\", \"label\": \"Name\", \"shape\": \"box\"},\n",
    "    \"Detailed\": {\"color\": \"green\", \"label\": \"Name\", \"shape\": \"hexagon\"},\n",
    "}\n",
    "\n",
    "with driver.session(database=\"capec\") as session:\n",
    "    query_out = session.run(\"MATCH a=((n)-[r1]->(p)) RETURN a\").graph()\n",
    "graph = GraphWidget(graph=query_out)\n",
    "graph.directed = True\n",
    "graph.set_sidebar(enabled=True, start_with=\"Neighborhood\")\n",
    "graph.set_node_styles_mapping(lambda index, node: node_styles.get(node[\"properties\"][\"Abstraction\"], {}))\n",
    "graph.set_node_label_mapping(lambda index, node : truncate_string_middle(node[\"properties\"][node_styles.get(node[\"properties\"][\"label\"], {\"label\":\"label\"})[\"label\"]], 15))\n",
    "graph.show()"
   ]
  },
  {
   "cell_type": "markdown",
   "metadata": {},
   "source": [
    "## Query in the Capec catalog"
   ]
  },
  {
   "cell_type": "code",
   "execution_count": 15,
   "metadata": {
    "notebookRunGroups": {
     "groupValue": ""
    }
   },
   "outputs": [
    {
     "data": {
      "text/html": [
       "<div>\n",
       "<style scoped>\n",
       "    .dataframe tbody tr th:only-of-type {\n",
       "        vertical-align: middle;\n",
       "    }\n",
       "\n",
       "    .dataframe tbody tr th {\n",
       "        vertical-align: top;\n",
       "    }\n",
       "\n",
       "    .dataframe thead th {\n",
       "        text-align: right;\n",
       "    }\n",
       "</style>\n",
       "<table border=\"1\" class=\"dataframe\">\n",
       "  <thead>\n",
       "    <tr style=\"text-align: right;\">\n",
       "      <th></th>\n",
       "      <th>name</th>\n",
       "      <th>capec_parents_id</th>\n",
       "      <th>capec_childs_id</th>\n",
       "      <th>x_capec_abstraction</th>\n",
       "      <th>description</th>\n",
       "      <th>x_capec_extended_description</th>\n",
       "    </tr>\n",
       "    <tr>\n",
       "      <th>capec_id</th>\n",
       "      <th></th>\n",
       "      <th></th>\n",
       "      <th></th>\n",
       "      <th></th>\n",
       "      <th></th>\n",
       "      <th></th>\n",
       "    </tr>\n",
       "  </thead>\n",
       "  <tbody>\n",
       "    <tr>\n",
       "      <th>125</th>\n",
       "      <td>Flooding</td>\n",
       "      <td>None</td>\n",
       "      <td>[482, 486, 487, 488, 489, 490, 528, 666]</td>\n",
       "      <td>Meta</td>\n",
       "      <td>An adversary consumes the resources of a target by rapidly engaging in a large number of interactions with the target. This type of attack generally exposes a weakness in rate limiting or flow. When successful this attack prevents legitimate users from accessing the service and can cause the target to crash. This attack differs from resource depletion through leaks or allocations in that the latter attacks do not rely on the volume of requests made to the target but instead focus on manipulation of the target's operations. The key factor in a flooding attack is the number of requests the adversary can make in a given period of time. The greater this number, the more likely an attack is to succeed against a given target.\\n\\n</td>\n",
       "      <td>None</td>\n",
       "    </tr>\n",
       "    <tr>\n",
       "      <th>594</th>\n",
       "      <td>Traffic Injection</td>\n",
       "      <td>None</td>\n",
       "      <td>[595]</td>\n",
       "      <td>Meta</td>\n",
       "      <td>An adversary injects traffic into the target's network connection. The adversary is therefore able to degrade or disrupt the connection, and potentially modify the content. This is not a flooding attack, as the adversary is not focusing on exhausting resources. Instead, the adversary is crafting a specific input to affect the system in a particular way.\\n\\n</td>\n",
       "      <td>None</td>\n",
       "    </tr>\n",
       "    <tr>\n",
       "      <th>272</th>\n",
       "      <td>Protocol Manipulation</td>\n",
       "      <td>None</td>\n",
       "      <td>[220, 276, 277, 278, 90]</td>\n",
       "      <td>Meta</td>\n",
       "      <td>An adversary subverts a communications protocol to perform an attack. This type of attack can allow an adversary to impersonate others, discover sensitive information, control the outcome of a session, or perform other attacks. This type of attack targets invalid assumptions that may be inherent in implementers of the protocol, incorrect implementations of the protocol, or vulnerabilities in the protocol itself.\\n\\n</td>\n",
       "      <td>None</td>\n",
       "    </tr>\n",
       "    <tr>\n",
       "      <th>607</th>\n",
       "      <td>Obstruction</td>\n",
       "      <td>None</td>\n",
       "      <td>[547, 582, 601, 603]</td>\n",
       "      <td>Meta</td>\n",
       "      <td>An attacker obstructs the interactions between system components. By interrupting or disabling these interactions, an adversary can often force the system into a degraded state or cause the system to stop working as intended. This can cause the system components to be unavailable until the obstruction mitigated.\\n\\n</td>\n",
       "      <td>None</td>\n",
       "    </tr>\n",
       "    <tr>\n",
       "      <th>586</th>\n",
       "      <td>Object Injection</td>\n",
       "      <td>None</td>\n",
       "      <td>None</td>\n",
       "      <td>Meta</td>\n",
       "      <td>An adversary attempts to exploit an application by injecting additional, malicious content during its processing of serialized objects. Developers leverage serialization in order to convert data or state into a static, binary format for saving to disk or transferring over a network. These objects are then deserialized when needed to recover the data/state. By injecting a malformed object into a vulnerable application, an adversary can potentially compromise the application by manipulating the deserialization process. This can result in a number of unwanted outcomes, including remote code execution.\\n\\n</td>\n",
       "      <td>None</td>\n",
       "    </tr>\n",
       "    <tr>\n",
       "      <th>123</th>\n",
       "      <td>Buffer Manipulation</td>\n",
       "      <td>None</td>\n",
       "      <td>[100, 540]</td>\n",
       "      <td>Meta</td>\n",
       "      <td>An adversary manipulates an application's interaction with a buffer in an attempt to read or modify data they shouldn't have access to. Buffer attacks are distinguished in that it is the buffer space itself that is the target of the attack rather than any code responsible for interpreting the content of the buffer. In virtually all buffer attacks the content that is placed in the buffer is immaterial. Instead, most buffer attacks involve retrieving or providing more input than can be stored in the allocated buffer, resulting in the reading or overwriting of other unintended program memory.\\n\\n</td>\n",
       "      <td>None</td>\n",
       "    </tr>\n",
       "    <tr>\n",
       "      <th>216</th>\n",
       "      <td>Communication Channel Manipulation</td>\n",
       "      <td>None</td>\n",
       "      <td>[12, 217]</td>\n",
       "      <td>Meta</td>\n",
       "      <td>An adversary manipulates a setting or parameter on communications channel in order to compromise its security. This can result in information exposure, insertion/removal of information from the communications stream, and/or potentially system compromise.\\n\\n</td>\n",
       "      <td>None</td>\n",
       "    </tr>\n",
       "    <tr>\n",
       "      <th>117</th>\n",
       "      <td>Interception</td>\n",
       "      <td>None</td>\n",
       "      <td>[157, 499, 651]</td>\n",
       "      <td>Meta</td>\n",
       "      <td>An adversary monitors data streams to or from the target for information gathering purposes. This attack may be undertaken to solely gather sensitive information or to support a further attack against the target. This attack pattern can involve sniffing network traffic as well as other types of data streams (e.g. radio). The adversary can attempt to initiate the establishment of a data stream or passively observe the communications as they unfold. In all variants of this attack, the adversary is not the intended recipient of the data stream. In contrast to other means of gathering information (e.g., targeting data leaks), the adversary must actively position themself so as to observe explicit data channels (e.g. network traffic) and read the content. However, this attack differs from a Adversary-In-the-Middle (CAPEC-94) attack, as the adversary does not alter the content of the communications nor forward data to the intended recipient.\\n\\n</td>\n",
       "      <td>None</td>\n",
       "    </tr>\n",
       "    <tr>\n",
       "      <th>548</th>\n",
       "      <td>Contaminate Resource</td>\n",
       "      <td>None</td>\n",
       "      <td>None</td>\n",
       "      <td>Meta</td>\n",
       "      <td>An adversary contaminates organizational information systems (including devices and networks) by causing them to handle information of a classification/sensitivity for which they have not been authorized. When this happens, the contaminated information system, device, or network must be brought offline to investigate and mitigate the data spill, which denies availability of the system until the investigation is complete.\\n\\n</td>\n",
       "      <td>Contamination through email is a very common attack vector. Systems with email servers or personal work systems using email are susceptible to this attack simply by receiving an email that contains a classified document or information. A fake classified document could even be used that is mistaken as true classified material. This would still cause the system to be taken offline until the validity of the classified material is confirmed.\\n\\n</td>\n",
       "    </tr>\n",
       "    <tr>\n",
       "      <th>192</th>\n",
       "      <td>Protocol Analysis</td>\n",
       "      <td>None</td>\n",
       "      <td>[97]</td>\n",
       "      <td>Meta</td>\n",
       "      <td>An adversary engages in activities to decipher and/or decode protocol information for a network or application communication protocol used for transmitting information between interconnected nodes or systems on a packet- switched data network. While this type of analysis involves the analysis of a networking protocol inherently, it does not require the presence of an actual or physical network.\\n\\n</td>\n",
       "      <td>Although certain techniques for protocol analysis benefit from manipulating live 'on-the-wire' interactions between communicating components, static or dynamic analysis techniques applied to executables as well as to device drivers, such as network interface drivers, can also be used to reveal the function and characteristics of a communication protocol implementation. Depending upon the methods used the process may involve observing, interacting, and modifying actual communications occurring between hosts. The goal of protocol analysis is to derive the data transmission syntax, as well as to extract the meaningful content, including packet or content delimiters used by the protocol. This type of analysis is often performed on closed- specification protocols, or proprietary protocols, but is also useful for analyzing publicly available specifications to determine how particular implementations deviate from published specifications.\\n\\n</td>\n",
       "    </tr>\n",
       "    <tr>\n",
       "      <th>148</th>\n",
       "      <td>Content Spoofing</td>\n",
       "      <td>None</td>\n",
       "      <td>[145, 218, 502, 627]</td>\n",
       "      <td>Meta</td>\n",
       "      <td>An adversary modifies content to make it contain something other than what the original content producer intended while keeping the apparent source of the content unchanged. The term content spoofing is most often used to describe modification of web pages hosted by a target to display the adversary's content instead of the owner's content. However, any content can be spoofed, including the content of email messages, file transfers, or the content of other network communication protocols. Content can be modified at the source (e.g. modifying the source file for a web page) or in transit (e.g. intercepting and modifying a message between the sender and recipient). Usually, the adversary will attempt to hide the fact that the content has been modified, but in some cases, such as with web site defacement, this is not necessary. Content Spoofing can lead to malware exposure, financial fraud (if the content governs financial transactions), privacy violations, and other unwanted outcomes.\\n\\n</td>\n",
       "      <td>None</td>\n",
       "    </tr>\n",
       "    <tr>\n",
       "      <th>94</th>\n",
       "      <td>Adversary in the Middle (AiTM)</td>\n",
       "      <td>None</td>\n",
       "      <td>[219, 384, 386, 466, 662, 701]</td>\n",
       "      <td>Meta</td>\n",
       "      <td>An adversary targets the communication between two components (typically client and server), in order to alter or obtain data from transactions. A general approach entails the adversary placing themself within the communication channel between the two components.\\n\\n</td>\n",
       "      <td>Whenever one component attempts to communicate with the other (data flow, authentication challenges, etc.), the data first flows through the adversary, who has the opportunity to observe or alter it, before being passed on to the intended recipient as if it was never observed. This interposition is transparent leaving the two compromised components unaware of the potential corruption or leakage of their communications. The potential for these attacks yields an implicit lack of trust in communication or identify between two components. These attacks differ from Sniffing Attacks (CAPEC-157) since these attacks often modify the communications prior to delivering it to the intended recipient.\\n\\n</td>\n",
       "    </tr>\n",
       "    <tr>\n",
       "      <th>22</th>\n",
       "      <td>Exploiting Trust in Client</td>\n",
       "      <td>None</td>\n",
       "      <td>[202, 207, 39, 77]</td>\n",
       "      <td>Meta</td>\n",
       "      <td>An attack of this type exploits vulnerabilities in client/server communication channel authentication and data integrity. It leverages the implicit trust a server places in the client, or more importantly, that which the server believes is the client. An attacker executes this type of attack by communicating directly with the server where the server believes it is communicating only with a valid client. There are numerous variations of this type of attack.\\n\\n</td>\n",
       "      <td>None</td>\n",
       "    </tr>\n",
       "    <tr>\n",
       "      <th>161</th>\n",
       "      <td>Infrastructure Manipulation</td>\n",
       "      <td>None</td>\n",
       "      <td>[141, 166, 268, 481, 571, 700]</td>\n",
       "      <td>Meta</td>\n",
       "      <td>An attacker exploits characteristics of the infrastructure of a network entity in order to perpetrate attacks or information gathering on network objects or effect a change in the ordinary information flow between network objects. Most often, this involves manipulation of the routing of network messages so, instead of arriving at their proper destination, they are directed towards an entity of the attackers' choosing, usually a server controlled by the attacker. The victim is often unaware that their messages are not being processed correctly. For example, a targeted client may believe they are connecting to their own bank but, in fact, be connecting to a Pharming site controlled by the attacker which then collects the user's login information in order to hijack the actual bank account.\\n\\n</td>\n",
       "      <td>None</td>\n",
       "    </tr>\n",
       "  </tbody>\n",
       "</table>\n",
       "</div>"
      ],
      "text/plain": [
       "                                        name capec_parents_id  \\\n",
       "capec_id                                                        \n",
       "125                                 Flooding             None   \n",
       "594                        Traffic Injection             None   \n",
       "272                    Protocol Manipulation             None   \n",
       "607                              Obstruction             None   \n",
       "586                         Object Injection             None   \n",
       "123                      Buffer Manipulation             None   \n",
       "216       Communication Channel Manipulation             None   \n",
       "117                             Interception             None   \n",
       "548                     Contaminate Resource             None   \n",
       "192                        Protocol Analysis             None   \n",
       "148                         Content Spoofing             None   \n",
       "94            Adversary in the Middle (AiTM)             None   \n",
       "22                Exploiting Trust in Client             None   \n",
       "161              Infrastructure Manipulation             None   \n",
       "\n",
       "                                   capec_childs_id x_capec_abstraction  \\\n",
       "capec_id                                                                 \n",
       "125       [482, 486, 487, 488, 489, 490, 528, 666]                Meta   \n",
       "594                                          [595]                Meta   \n",
       "272                       [220, 276, 277, 278, 90]                Meta   \n",
       "607                           [547, 582, 601, 603]                Meta   \n",
       "586                                           None                Meta   \n",
       "123                                     [100, 540]                Meta   \n",
       "216                                      [12, 217]                Meta   \n",
       "117                                [157, 499, 651]                Meta   \n",
       "548                                           None                Meta   \n",
       "192                                           [97]                Meta   \n",
       "148                           [145, 218, 502, 627]                Meta   \n",
       "94                  [219, 384, 386, 466, 662, 701]                Meta   \n",
       "22                              [202, 207, 39, 77]                Meta   \n",
       "161                 [141, 166, 268, 481, 571, 700]                Meta   \n",
       "\n",
       "                                                                                                                                                                                                                                                                                                                                                                                                                                                                                                                                                                                                                                                                                                                                                                                                                                                                                                                                                                                                                                        description  \\\n",
       "capec_id                                                                                                                                                                                                                                                                                                                                                                                                                                                                                                                                                                                                                                                                                                                                                                                                                                                                                                                                                                                                                                              \n",
       "125                                                                                                                                                                                                                                                                                   An adversary consumes the resources of a target by rapidly engaging in a large number of interactions with the target. This type of attack generally exposes a weakness in rate limiting or flow. When successful this attack prevents legitimate users from accessing the service and can cause the target to crash. This attack differs from resource depletion through leaks or allocations in that the latter attacks do not rely on the volume of requests made to the target but instead focus on manipulation of the target's operations. The key factor in a flooding attack is the number of requests the adversary can make in a given period of time. The greater this number, the more likely an attack is to succeed against a given target.\\n\\n   \n",
       "594                                                                                                                                                                                                                                                                                                                                                                                                                                                                                                                                                                                                                                                                         An adversary injects traffic into the target's network connection. The adversary is therefore able to degrade or disrupt the connection, and potentially modify the content. This is not a flooding attack, as the adversary is not focusing on exhausting resources. Instead, the adversary is crafting a specific input to affect the system in a particular way.\\n\\n   \n",
       "272                                                                                                                                                                                                                                                                                                                                                                                                                                                                                                                                                                                                             An adversary subverts a communications protocol to perform an attack. This type of attack can allow an adversary to impersonate others, discover sensitive information, control the outcome of a session, or perform other attacks. This type of attack targets invalid assumptions that may be inherent in implementers of the protocol, incorrect implementations of the protocol, or vulnerabilities in the protocol itself.\\n\\n   \n",
       "607                                                                                                                                                                                                                                                                                                                                                                                                                                                                                                                                                                                                                                                                                                                   An attacker obstructs the interactions between system components. By interrupting or disabling these interactions, an adversary can often force the system into a degraded state or cause the system to stop working as intended. This can cause the system components to be unavailable until the obstruction mitigated.\\n\\n   \n",
       "586                                                                                                                                                                                                                                                                                                                                                                                                               An adversary attempts to exploit an application by injecting additional, malicious content during its processing of serialized objects. Developers leverage serialization in order to convert data or state into a static, binary format for saving to disk or transferring over a network. These objects are then deserialized when needed to recover the data/state. By injecting a malformed object into a vulnerable application, an adversary can potentially compromise the application by manipulating the deserialization process. This can result in a number of unwanted outcomes, including remote code execution.\\n\\n   \n",
       "123                                                                                                                                                                                                                                                                                                                                                                                                                        An adversary manipulates an application's interaction with a buffer in an attempt to read or modify data they shouldn't have access to. Buffer attacks are distinguished in that it is the buffer space itself that is the target of the attack rather than any code responsible for interpreting the content of the buffer. In virtually all buffer attacks the content that is placed in the buffer is immaterial. Instead, most buffer attacks involve retrieving or providing more input than can be stored in the allocated buffer, resulting in the reading or overwriting of other unintended program memory.\\n\\n   \n",
       "216                                                                                                                                                                                                                                                                                                                                                                                                                                                                                                                                                                                                                                                                                                                                                                              An adversary manipulates a setting or parameter on communications channel in order to compromise its security. This can result in information exposure, insertion/removal of information from the communications stream, and/or potentially system compromise.\\n\\n   \n",
       "117                                                       An adversary monitors data streams to or from the target for information gathering purposes. This attack may be undertaken to solely gather sensitive information or to support a further attack against the target. This attack pattern can involve sniffing network traffic as well as other types of data streams (e.g. radio). The adversary can attempt to initiate the establishment of a data stream or passively observe the communications as they unfold. In all variants of this attack, the adversary is not the intended recipient of the data stream. In contrast to other means of gathering information (e.g., targeting data leaks), the adversary must actively position themself so as to observe explicit data channels (e.g. network traffic) and read the content. However, this attack differs from a Adversary-In-the-Middle (CAPEC-94) attack, as the adversary does not alter the content of the communications nor forward data to the intended recipient.\\n\\n   \n",
       "548                                                                                                                                                                                                                                                                                                                                                                                                                                                                                                                                                                                                    An adversary contaminates organizational information systems (including devices and networks) by causing them to handle information of a classification/sensitivity for which they have not been authorized. When this happens, the contaminated information system, device, or network must be brought offline to investigate and mitigate the data spill, which denies availability of the system until the investigation is complete.\\n\\n   \n",
       "192                                                                                                                                                                                                                                                                                                                                                                                                                                                                                                                                                                                                                               An adversary engages in activities to decipher and/or decode protocol information for a network or application communication protocol used for transmitting information between interconnected nodes or systems on a packet- switched data network. While this type of analysis involves the analysis of a networking protocol inherently, it does not require the presence of an actual or physical network.\\n\\n   \n",
       "148       An adversary modifies content to make it contain something other than what the original content producer intended while keeping the apparent source of the content unchanged. The term content spoofing is most often used to describe modification of web pages hosted by a target to display the adversary's content instead of the owner's content. However, any content can be spoofed, including the content of email messages, file transfers, or the content of other network communication protocols. Content can be modified at the source (e.g. modifying the source file for a web page) or in transit (e.g. intercepting and modifying a message between the sender and recipient). Usually, the adversary will attempt to hide the fact that the content has been modified, but in some cases, such as with web site defacement, this is not necessary. Content Spoofing can lead to malware exposure, financial fraud (if the content governs financial transactions), privacy violations, and other unwanted outcomes.\\n\\n   \n",
       "94                                                                                                                                                                                                                                                                                                                                                                                                                                                                                                                                                                                                                                                                                                                                                                      An adversary targets the communication between two components (typically client and server), in order to alter or obtain data from transactions. A general approach entails the adversary placing themself within the communication channel between the two components.\\n\\n   \n",
       "22                                                                                                                                                                                                                                                                                                                                                                                                                                                                                                                                                                 An attack of this type exploits vulnerabilities in client/server communication channel authentication and data integrity. It leverages the implicit trust a server places in the client, or more importantly, that which the server believes is the client. An attacker executes this type of attack by communicating directly with the server where the server believes it is communicating only with a valid client. There are numerous variations of this type of attack.\\n\\n   \n",
       "161                                                                                                                                                                                                               An attacker exploits characteristics of the infrastructure of a network entity in order to perpetrate attacks or information gathering on network objects or effect a change in the ordinary information flow between network objects. Most often, this involves manipulation of the routing of network messages so, instead of arriving at their proper destination, they are directed towards an entity of the attackers' choosing, usually a server controlled by the attacker. The victim is often unaware that their messages are not being processed correctly. For example, a targeted client may believe they are connecting to their own bank but, in fact, be connecting to a Pharming site controlled by the attacker which then collects the user's login information in order to hijack the actual bank account.\\n\\n   \n",
       "\n",
       "                                                                                                                                                                                                                                                                                                                                                                                                                                                                                                                                                                                                                                                                                                                                                                                                                                                                                                                                                                   x_capec_extended_description  \n",
       "capec_id                                                                                                                                                                                                                                                                                                                                                                                                                                                                                                                                                                                                                                                                                                                                                                                                                                                                                                                                                                                         \n",
       "125                                                                                                                                                                                                                                                                                                                                                                                                                                                                                                                                                                                                                                                                                                                                                                                                                                                                                                                                                                                        None  \n",
       "594                                                                                                                                                                                                                                                                                                                                                                                                                                                                                                                                                                                                                                                                                                                                                                                                                                                                                                                                                                                        None  \n",
       "272                                                                                                                                                                                                                                                                                                                                                                                                                                                                                                                                                                                                                                                                                                                                                                                                                                                                                                                                                                                        None  \n",
       "607                                                                                                                                                                                                                                                                                                                                                                                                                                                                                                                                                                                                                                                                                                                                                                                                                                                                                                                                                                                        None  \n",
       "586                                                                                                                                                                                                                                                                                                                                                                                                                                                                                                                                                                                                                                                                                                                                                                                                                                                                                                                                                                                        None  \n",
       "123                                                                                                                                                                                                                                                                                                                                                                                                                                                                                                                                                                                                                                                                                                                                                                                                                                                                                                                                                                                        None  \n",
       "216                                                                                                                                                                                                                                                                                                                                                                                                                                                                                                                                                                                                                                                                                                                                                                                                                                                                                                                                                                                        None  \n",
       "117                                                                                                                                                                                                                                                                                                                                                                                                                                                                                                                                                                                                                                                                                                                                                                                                                                                                                                                                                                                        None  \n",
       "548                                                                                                                                                                                                                                                                                                                                                                                                                                                                                                                               Contamination through email is a very common attack vector. Systems with email servers or personal work systems using email are susceptible to this attack simply by receiving an email that contains a classified document or information. A fake classified document could even be used that is mistaken as true classified material. This would still cause the system to be taken offline until the validity of the classified material is confirmed.\\n\\n  \n",
       "192       Although certain techniques for protocol analysis benefit from manipulating live 'on-the-wire' interactions between communicating components, static or dynamic analysis techniques applied to executables as well as to device drivers, such as network interface drivers, can also be used to reveal the function and characteristics of a communication protocol implementation. Depending upon the methods used the process may involve observing, interacting, and modifying actual communications occurring between hosts. The goal of protocol analysis is to derive the data transmission syntax, as well as to extract the meaningful content, including packet or content delimiters used by the protocol. This type of analysis is often performed on closed- specification protocols, or proprietary protocols, but is also useful for analyzing publicly available specifications to determine how particular implementations deviate from published specifications.\\n\\n  \n",
       "148                                                                                                                                                                                                                                                                                                                                                                                                                                                                                                                                                                                                                                                                                                                                                                                                                                                                                                                                                                                        None  \n",
       "94                                                                                                                                                                                                                                                                Whenever one component attempts to communicate with the other (data flow, authentication challenges, etc.), the data first flows through the adversary, who has the opportunity to observe or alter it, before being passed on to the intended recipient as if it was never observed. This interposition is transparent leaving the two compromised components unaware of the potential corruption or leakage of their communications. The potential for these attacks yields an implicit lack of trust in communication or identify between two components. These attacks differ from Sniffing Attacks (CAPEC-157) since these attacks often modify the communications prior to delivering it to the intended recipient.\\n\\n  \n",
       "22                                                                                                                                                                                                                                                                                                                                                                                                                                                                                                                                                                                                                                                                                                                                                                                                                                                                                                                                                                                         None  \n",
       "161                                                                                                                                                                                                                                                                                                                                                                                                                                                                                                                                                                                                                                                                                                                                                                                                                                                                                                                                                                                        None  "
      ]
     },
     "execution_count": 15,
     "metadata": {},
     "output_type": "execute_result"
    }
   ],
   "source": [
    "query_attack_patterns(attack_pattern_df_str, search_columns=['description', 'name'], keywords=['communication', 'network', 'interaction'], ap_type=['Meta'])"
   ]
  },
  {
   "cell_type": "code",
   "execution_count": 16,
   "metadata": {
    "notebookRunGroups": {
     "groupValue": ""
    }
   },
   "outputs": [
    {
     "data": {
      "text/html": [
       "<div>\n",
       "<style scoped>\n",
       "    .dataframe tbody tr th:only-of-type {\n",
       "        vertical-align: middle;\n",
       "    }\n",
       "\n",
       "    .dataframe tbody tr th {\n",
       "        vertical-align: top;\n",
       "    }\n",
       "\n",
       "    .dataframe thead th {\n",
       "        text-align: right;\n",
       "    }\n",
       "</style>\n",
       "<table border=\"1\" class=\"dataframe\">\n",
       "  <thead>\n",
       "    <tr style=\"text-align: right;\">\n",
       "      <th></th>\n",
       "      <th>name</th>\n",
       "      <th>capec_parents_id</th>\n",
       "      <th>capec_childs_id</th>\n",
       "      <th>x_capec_abstraction</th>\n",
       "      <th>description</th>\n",
       "      <th>x_capec_extended_description</th>\n",
       "    </tr>\n",
       "    <tr>\n",
       "      <th>capec_id</th>\n",
       "      <th></th>\n",
       "      <th></th>\n",
       "      <th></th>\n",
       "      <th></th>\n",
       "      <th></th>\n",
       "      <th></th>\n",
       "    </tr>\n",
       "  </thead>\n",
       "  <tbody>\n",
       "    <tr>\n",
       "      <th>219</th>\n",
       "      <td>XML Routing Detour Attacks</td>\n",
       "      <td>[94]</td>\n",
       "      <td>None</td>\n",
       "      <td>Standard</td>\n",
       "      <td>An attacker subverts an intermediate system used to process XML content and forces the intermediate to modify and/or re-route the processing of the content. XML Routing Detour Attacks are Adversary in the Middle type attacks (CAPEC-94). The attacker compromises or inserts an intermediate system in the processing of the XML message. For example, WS-Routing can be used to specify a series of nodes or intermediaries through which content is passed. If any of the intermediate nodes in this route are compromised by an attacker they could be used for a routing detour attack. From the compromised system the attacker is able to route the XML process to other nodes of their choice and modify the responses so that the normal chain of processing is unaware of the interception. This system can forward the message to an outside entity and hide the forwarding and processing from the legitimate processing systems by altering the header information.\\n\\n</td>\n",
       "      <td>None</td>\n",
       "    </tr>\n",
       "  </tbody>\n",
       "</table>\n",
       "</div>"
      ],
      "text/plain": [
       "                                name capec_parents_id capec_childs_id  \\\n",
       "capec_id                                                                \n",
       "219       XML Routing Detour Attacks             [94]            None   \n",
       "\n",
       "         x_capec_abstraction  \\\n",
       "capec_id                       \n",
       "219                 Standard   \n",
       "\n",
       "                                                                                                                                                                                                                                                                                                                                                                                                                                                                                                                                                                                                                                                                                                                                                                                                                                                                                                                                                                                      description  \\\n",
       "capec_id                                                                                                                                                                                                                                                                                                                                                                                                                                                                                                                                                                                                                                                                                                                                                                                                                                                                                                                                                                                            \n",
       "219       An attacker subverts an intermediate system used to process XML content and forces the intermediate to modify and/or re-route the processing of the content. XML Routing Detour Attacks are Adversary in the Middle type attacks (CAPEC-94). The attacker compromises or inserts an intermediate system in the processing of the XML message. For example, WS-Routing can be used to specify a series of nodes or intermediaries through which content is passed. If any of the intermediate nodes in this route are compromised by an attacker they could be used for a routing detour attack. From the compromised system the attacker is able to route the XML process to other nodes of their choice and modify the responses so that the normal chain of processing is unaware of the interception. This system can forward the message to an outside entity and hide the forwarding and processing from the legitimate processing systems by altering the header information.\\n\\n   \n",
       "\n",
       "         x_capec_extended_description  \n",
       "capec_id                               \n",
       "219                              None  "
      ]
     },
     "execution_count": 16,
     "metadata": {},
     "output_type": "execute_result"
    }
   ],
   "source": [
    "query_attack_patterns(attack_pattern_df_str, search_columns=['name', 'description'], keywords=['node', 'forward'], query_type='and')"
   ]
  },
  {
   "cell_type": "code",
   "execution_count": 17,
   "metadata": {
    "notebookRunGroups": {
     "groupValue": ""
    }
   },
   "outputs": [
    {
     "data": {
      "text/html": [
       "<div>\n",
       "<style scoped>\n",
       "    .dataframe tbody tr th:only-of-type {\n",
       "        vertical-align: middle;\n",
       "    }\n",
       "\n",
       "    .dataframe tbody tr th {\n",
       "        vertical-align: top;\n",
       "    }\n",
       "\n",
       "    .dataframe thead th {\n",
       "        text-align: right;\n",
       "    }\n",
       "</style>\n",
       "<table border=\"1\" class=\"dataframe\">\n",
       "  <thead>\n",
       "    <tr style=\"text-align: right;\">\n",
       "      <th></th>\n",
       "      <th>name</th>\n",
       "      <th>capec_parents_id</th>\n",
       "      <th>capec_childs_id</th>\n",
       "      <th>x_capec_abstraction</th>\n",
       "      <th>description</th>\n",
       "      <th>x_capec_extended_description</th>\n",
       "    </tr>\n",
       "    <tr>\n",
       "      <th>capec_id</th>\n",
       "      <th></th>\n",
       "      <th></th>\n",
       "      <th></th>\n",
       "      <th></th>\n",
       "      <th></th>\n",
       "      <th></th>\n",
       "    </tr>\n",
       "  </thead>\n",
       "  <tbody>\n",
       "    <tr>\n",
       "      <th>169</th>\n",
       "      <td>Footprinting</td>\n",
       "      <td>None</td>\n",
       "      <td>[292, 300, 309, 497, 529, 573, 574, 575, 576, 577, 580, 646, 694]</td>\n",
       "      <td>Meta</td>\n",
       "      <td>An adversary engages in probing and exploration activities to identify constituents and properties of the target.</td>\n",
       "      <td>\\n            &lt;xhtml:p&gt;Footprinting is a general term to describe a variety of information gathering techniques, often used by attackers in preparation for some attack. It consists of using tools to learn as much as possible about the composition, configuration, and security mechanisms of the targeted application, system or network. Information that might be collected during a footprinting effort could include open ports, applications and their versions, network topology, and similar information. Although similar to fingerprinting, footprinting aims to get a more holistic view of a system or network, whereas fingerprinting is more targeted to a specific application or operating system. While footprinting is not intended to be damaging (although certain activities, such as network scans, can sometimes cause disruptions to vulnerable applications inadvertently) it may often pave the way for more damaging attacks.&lt;/xhtml:p&gt;\\n</td>\n",
       "    </tr>\n",
       "  </tbody>\n",
       "</table>\n",
       "</div>"
      ],
      "text/plain": [
       "                  name capec_parents_id  \\\n",
       "capec_id                                  \n",
       "169       Footprinting             None   \n",
       "\n",
       "                                                            capec_childs_id  \\\n",
       "capec_id                                                                      \n",
       "169       [292, 300, 309, 497, 529, 573, 574, 575, 576, 577, 580, 646, 694]   \n",
       "\n",
       "         x_capec_abstraction  \\\n",
       "capec_id                       \n",
       "169                     Meta   \n",
       "\n",
       "                                                                                                                description  \\\n",
       "capec_id                                                                                                                      \n",
       "169       An adversary engages in probing and exploration activities to identify constituents and properties of the target.   \n",
       "\n",
       "                                                                                                                                                                                                                                                                                                                                                                                                                                                                                                                                                                                                                                                                                                                                                                                                                                                                                                                                                               x_capec_extended_description  \n",
       "capec_id                                                                                                                                                                                                                                                                                                                                                                                                                                                                                                                                                                                                                                                                                                                                                                                                                                                                                                                                                                                     \n",
       "169       \\n            <xhtml:p>Footprinting is a general term to describe a variety of information gathering techniques, often used by attackers in preparation for some attack. It consists of using tools to learn as much as possible about the composition, configuration, and security mechanisms of the targeted application, system or network. Information that might be collected during a footprinting effort could include open ports, applications and their versions, network topology, and similar information. Although similar to fingerprinting, footprinting aims to get a more holistic view of a system or network, whereas fingerprinting is more targeted to a specific application or operating system. While footprinting is not intended to be damaging (although certain activities, such as network scans, can sometimes cause disruptions to vulnerable applications inadvertently) it may often pave the way for more damaging attacks.</xhtml:p>\\n           "
      ]
     },
     "execution_count": 17,
     "metadata": {},
     "output_type": "execute_result"
    }
   ],
   "source": [
    "get_child_attack_patterns(169, attack_pattern_df)"
   ]
  },
  {
   "cell_type": "markdown",
   "metadata": {},
   "source": [
    "# GUI"
   ]
  },
  {
   "cell_type": "markdown",
   "metadata": {},
   "source": [
    "Interactive interface for searching information in the Capec catalog."
   ]
  },
  {
   "cell_type": "code",
   "execution_count": 18,
   "metadata": {
    "notebookRunGroups": {
     "groupValue": "1"
    }
   },
   "outputs": [
    {
     "data": {
      "text/html": [
       "\n",
       "    <style>\n",
       "        .myStyle { font-weight: bold; }\n",
       "    </style>\n"
      ],
      "text/plain": [
       "<IPython.core.display.HTML object>"
      ]
     },
     "metadata": {},
     "output_type": "display_data"
    },
    {
     "data": {
      "application/vnd.jupyter.widget-view+json": {
       "model_id": "cd4dac52ed64411e89ae661965014854",
       "version_major": 2,
       "version_minor": 0
      },
      "text/plain": [
       "Tab(children=(AppLayout(children=(VBox(children=(Label(value='ID', _dom_classes=('myStyle',)), HBox(children=(…"
      ]
     },
     "metadata": {},
     "output_type": "display_data"
    },
    {
     "data": {
      "application/vnd.jupyter.widget-view+json": {
       "model_id": "aefbf7d283c44024a49e57e256f2e6c8",
       "version_major": 2,
       "version_minor": 0
      },
      "text/plain": [
       "Label(value='Showing 0 items', layout=Layout(align_items='center', display='flex', height='auto', justify_cont…"
      ]
     },
     "metadata": {},
     "output_type": "display_data"
    },
    {
     "data": {
      "application/vnd.jupyter.widget-view+json": {
       "model_id": "899657623e3245599b9b83715d50ef87",
       "version_major": 2,
       "version_minor": 0
      },
      "text/plain": [
       "Output(layout=Layout(height='auto', padding='0 20px 0 0', width='fit-content'))"
      ]
     },
     "metadata": {},
     "output_type": "display_data"
    }
   ],
   "source": [
    "import ipywidgets as widgets\n",
    "from IPython.display import display, HTML\n",
    "import yake\n",
    "\n",
    "# YAKE setup\n",
    "language = \"en\"\n",
    "max_ngram_size = 3\n",
    "deduplication_threshold = 0.9\n",
    "numOfKeywords = 20\n",
    "custom_kw_extractor = yake.KeywordExtractor(lan=language, n=max_ngram_size, dedupLim=deduplication_threshold, top=numOfKeywords, features=None)\n",
    "\n",
    "display(HTML('''\n",
    "    <style>\n",
    "        .myStyle { font-weight: bold; }\n",
    "    </style>\n",
    "'''))\n",
    "\n",
    "column_to_search = attack_pattern_df.columns.to_list()\n",
    "\n",
    "clear_button = widgets.Button(\n",
    "    description='Clear',\n",
    "    disabled=False,\n",
    "    button_style='danger',\n",
    "    tooltip='Clear',\n",
    "    icon='trash',\n",
    "    layout=widgets.Layout(width='auto', height='auto')\n",
    ")\n",
    "\n",
    "search_id_tags = widgets.TagsInput(\n",
    "    value=[],\n",
    "    placeholder='Search ID',\n",
    "    description='ID',\n",
    "    disabled=False,\n",
    "    layout=widgets.Layout(width='200px', height='auto')\n",
    ")\n",
    "\n",
    "show_tree_toggle = widgets.ToggleButtons(\n",
    "    options=[True, False],\n",
    "    value=False,\n",
    "    description='Show Childs',\n",
    "    disabled=False,\n",
    "    button_style='info',\n",
    "    tooltip='Show Tree',\n",
    "    icon='check',\n",
    "    layout=widgets.Layout(width='auto', height='auto', justify_content='center', align_items='center', flex_flow='column', display='flex'),\n",
    "    style=widgets.ToggleButtonsStyle(button_width='auto', font_weight='bold')\n",
    ")\n",
    "\n",
    "show_all_toggle = widgets.ToggleButtons(\n",
    "    options=[True, False],\n",
    "    value=False,\n",
    "    description='Show All',\n",
    "    disabled=False,\n",
    "    button_style='info',\n",
    "    tooltip='Show All',\n",
    "    icon='check',\n",
    "    layout=widgets.Layout(width='auto', height='auto', justify_content='center', align_items='center', flex_flow='column', display='flex'),\n",
    "    style=widgets.ToggleButtonsStyle(button_width='auto', font_weight='bold')\n",
    ")\n",
    "\n",
    "id_label = widgets.Label(value='ID')\n",
    "\n",
    "search_id_box_clr = widgets.HBox([clear_button, search_id_tags], layout=widgets.Layout(align_items='center', width='auto', justify_content='center'))\n",
    "search_id_box = widgets.VBox([id_label, search_id_box_clr], layout=widgets.Layout(align_items='center', width='auto', justify_content='center'))\n",
    "\n",
    "search_type_toggle = widgets.ToggleButtons(\n",
    "    options=['or', 'and'],\n",
    "    value='or',\n",
    "    description='Search Type',\n",
    "    disabled=False,\n",
    "    button_style='info',\n",
    "    tooltips=['Search using OR', 'Search using AND'],\n",
    "    layout=widgets.Layout(width='auto', height='auto', justify_content='center', align_items='center', flex_flow='column', display='flex'),\n",
    "    style=widgets.ToggleButtonsStyle(button_width='auto', font_weight='bold')\n",
    ")\n",
    "\n",
    "search_abstraction_sel = widgets.SelectMultiple(\n",
    "    options=['Meta', 'Standard', 'Detailed'],\n",
    "    value=['Meta', 'Standard', 'Detailed'],\n",
    "    rows=3,\n",
    "    description='Abstraction',\n",
    "    disabled=False,\n",
    "    layout=widgets.Layout(width='auto', height='fit-content', justify_content='center', align_items='center', flex_flow='column', display='flex')\n",
    ")\n",
    "\n",
    "search_columns_sel = widgets.SelectMultiple(\n",
    "    options=column_to_search,\n",
    "    value=column_to_search,\n",
    "    rows=5,\n",
    "    description='Columns',\n",
    "    disabled=False,\n",
    "    layout=widgets.Layout(width='auto', height='auto', justify_content='center', align_items='center', flex_flow='column', display='flex')\n",
    ")\n",
    "\n",
    "show_columns = widgets.SelectMultiple(\n",
    "    options=column_to_search,\n",
    "    value=['name', 'capec_parents_id', 'capec_childs_id', 'x_capec_abstraction', 'description', 'x_capec_extended_description'],\n",
    "    rows=5,\n",
    "    description='Columns to show',\n",
    "    disabled=False,\n",
    "    layout=widgets.Layout(width='fit-content', height='auto', justify_content='center', align_items='center', flex_flow='column', display='flex')\n",
    ")\n",
    "\n",
    "keywords_label = widgets.Label(value='Keywords')\n",
    "\n",
    "search_keyword_tag = widgets.TagsInput(\n",
    "    placeholder='Enter keyword',\n",
    "    value=[],\n",
    "    allow_duplicates=False,\n",
    "    layout=widgets.Layout(width='fit-parent', height='auto', justify_self='center', align_self='center')\n",
    ")\n",
    "\n",
    "keyword_description = widgets.Textarea(\n",
    "    placeholder='Enter description',\n",
    "    value='',\n",
    "    disabled=False,\n",
    "    layout=widgets.Layout(width='fit-parent', height='auto', justify_self='center', align_self='center', min_width='300px'),\n",
    "    rows=5\n",
    ")\n",
    "\n",
    "search_button = widgets.Button(\n",
    "    description='Search',\n",
    "    disabled=False,\n",
    "    button_style='info',\n",
    "    tooltip='Search',\n",
    "    icon='search',\n",
    "    layout=widgets.Layout(width='auto', height='auto')\n",
    ")\n",
    "\n",
    "search_keyword_tag_clr = widgets.HBox([clear_button, search_button], layout=widgets.Layout(align_items='center', width='auto', justify_content='center'))\n",
    "search_keyword_tag_box = widgets.VBox([keywords_label, search_keyword_tag_clr, keyword_description, search_keyword_tag], layout=widgets.Layout(align_items='center', width='auto', justify_content='center'))\n",
    "\n",
    "search_id_box_stack = widgets.AppLayout(\n",
    "    children=[search_id_box, show_all_toggle, show_tree_toggle, show_columns],\n",
    "    grid_gap='10px',\n",
    "    justify_items='center',\n",
    "    align_items='center',\n",
    "    layout=widgets.Layout(width='fit-parent', height='auto', justify_content='center', align_items='center', display='flex', align_content='center', align_self='center', justify_self='center')\n",
    ")\n",
    "\n",
    "showing_number = widgets.Label(\n",
    "    value='Showing 0 items',\n",
    "    layout=widgets.Layout(width='auto', height='auto', justify_content='center', align_items='center', display='flex')\n",
    ")\n",
    "\n",
    "grid = widgets.GridspecLayout(2, 3, align_items='center', height='auto', width='auto', justify_content='center', grid_gap='10px')\n",
    "grid[:, 0] = search_keyword_tag_box\n",
    "grid[0, 1] = search_type_toggle\n",
    "grid[0, 2] = search_abstraction_sel\n",
    "grid[1, 1] = search_columns_sel\n",
    "grid[1, 2] = show_columns\n",
    "\n",
    "tab = widgets.Tab()\n",
    "tab.children = [search_id_box_stack, grid]\n",
    "tab.titles = ['Search by ID', 'Search by Keywords']\n",
    "\n",
    "search_results = widgets.Output(layout=widgets.Layout(width='fit-content', height='auto', padding='0 20px 0 0'))\n",
    "\n",
    "search_type_toggle.add_class('myStyle')\n",
    "search_abstraction_sel.add_class('myStyle')\n",
    "search_columns_sel.add_class('myStyle')\n",
    "keywords_label.add_class('myStyle')\n",
    "show_all_toggle.add_class('myStyle')\n",
    "showing_number.add_class('myStyle')\n",
    "show_tree_toggle.add_class('myStyle')\n",
    "id_label.add_class('myStyle')\n",
    "show_columns.add_class('myStyle')\n",
    "\n",
    "def on_clear_button_clicked(b):\n",
    "    if tab.selected_index == 0:\n",
    "        search_id_tags.value = []\n",
    "    elif tab.selected_index == 1:\n",
    "        search_keyword_tag.value = []\n",
    "        keyword_description.value = ''\n",
    "    \n",
    "def on_search_button_clicked(b):\n",
    "    if tab.selected_index == 1 and keyword_description.value != '':\n",
    "        search_keyword_tag.value = [x[0] for x in custom_kw_extractor.extract_keywords(keyword_description.value)]\n",
    "    \n",
    "def on_update(change):\n",
    "    search_results.clear_output()\n",
    "    column_to_show = list(show_columns.value)\n",
    "    with search_results:\n",
    "        if tab.selected_index==0:\n",
    "            if search_id_tags.value != []:\n",
    "                query_out = get_child_attack_patterns([int(id) for id in search_id_tags.value], attack_pattern_df, show_tree=show_tree_toggle.value, show_columns=column_to_show)\n",
    "                showing_number.value = f\"Showing {len(query_out.values)} items\"\n",
    "                display(capec_abstraction_sort(query_out))\n",
    "            elif show_all_toggle.value:\n",
    "                query_out = attack_pattern_df[column_to_show]\n",
    "                showing_number.value = f\"Showing {len(attack_pattern_df.values)} items\"\n",
    "                display(capec_abstraction_sort(query_out))\n",
    "            else:\n",
    "                showing_number.value = \"Showing 0 items\"\n",
    "        elif tab.selected_index==1 and search_keyword_tag.value != []:\n",
    "            query_out = query_attack_patterns(attack_pattern_df_str, search_columns=search_columns_sel.value, ap_type=search_abstraction_sel.value, keywords=search_keyword_tag.value, query_type=search_type_toggle.value, show_columns=column_to_show)\n",
    "            showing_number.value = f\"Showing {len(query_out.values)} items\"\n",
    "            display(capec_abstraction_sort(query_out))\n",
    "        else:\n",
    "            showing_number.value = \"Showing 0 items\"\n",
    "\n",
    "search_id_tags.observe(on_update, names='value')\n",
    "search_type_toggle.observe(on_update, names='value')\n",
    "search_abstraction_sel.observe(on_update, names='value')\n",
    "search_columns_sel.observe(on_update, names='value')\n",
    "search_keyword_tag.observe(on_update, names='value')\n",
    "show_all_toggle.observe(on_update, names='value')\n",
    "show_tree_toggle.observe(on_update, names='value')\n",
    "show_columns.observe(on_update, names='value')\n",
    "search_button.on_click(on_search_button_clicked)\n",
    "clear_button.on_click(on_clear_button_clicked)\n",
    "tab.observe(on_update, names='selected_index')\n",
    "\n",
    "display(tab)\n",
    "display(showing_number)\n",
    "display(search_results)"
   ]
  },
  {
   "cell_type": "markdown",
   "metadata": {},
   "source": [
    "# Building Threat Model"
   ]
  },
  {
   "cell_type": "code",
   "execution_count": 19,
   "metadata": {
    "notebookRunGroups": {
     "groupValue": "1"
    }
   },
   "outputs": [
    {
     "data": {
      "text/html": [
       "<div>\n",
       "<style scoped>\n",
       "    .dataframe tbody tr th:only-of-type {\n",
       "        vertical-align: middle;\n",
       "    }\n",
       "\n",
       "    .dataframe tbody tr th {\n",
       "        vertical-align: top;\n",
       "    }\n",
       "\n",
       "    .dataframe thead th {\n",
       "        text-align: right;\n",
       "    }\n",
       "</style>\n",
       "<table border=\"1\" class=\"dataframe\">\n",
       "  <thead>\n",
       "    <tr style=\"text-align: right;\">\n",
       "      <th></th>\n",
       "      <th>Component ID</th>\n",
       "      <th>Application</th>\n",
       "      <th>Name</th>\n",
       "      <th>Type</th>\n",
       "      <th>App ID</th>\n",
       "    </tr>\n",
       "  </thead>\n",
       "  <tbody>\n",
       "    <tr>\n",
       "      <th>0</th>\n",
       "      <td>1</td>\n",
       "      <td>WordPress</td>\n",
       "      <td>CSC</td>\n",
       "      <td>User</td>\n",
       "      <td>103</td>\n",
       "    </tr>\n",
       "    <tr>\n",
       "      <th>1</th>\n",
       "      <td>3</td>\n",
       "      <td>WordPress</td>\n",
       "      <td>LAN Network</td>\n",
       "      <td>Network</td>\n",
       "      <td>103</td>\n",
       "    </tr>\n",
       "    <tr>\n",
       "      <th>2</th>\n",
       "      <td>4</td>\n",
       "      <td>WordPress</td>\n",
       "      <td>PC</td>\n",
       "      <td>HW.PC</td>\n",
       "      <td>103</td>\n",
       "    </tr>\n",
       "    <tr>\n",
       "      <th>3</th>\n",
       "      <td>5</td>\n",
       "      <td>WordPress</td>\n",
       "      <td>OS</td>\n",
       "      <td>Service.OS</td>\n",
       "      <td>103</td>\n",
       "    </tr>\n",
       "    <tr>\n",
       "      <th>4</th>\n",
       "      <td>6</td>\n",
       "      <td>WordPress</td>\n",
       "      <td>Server</td>\n",
       "      <td>HW.Server</td>\n",
       "      <td>103</td>\n",
       "    </tr>\n",
       "    <tr>\n",
       "      <th>5</th>\n",
       "      <td>7</td>\n",
       "      <td>WordPress</td>\n",
       "      <td>OS</td>\n",
       "      <td>Service.OS</td>\n",
       "      <td>103</td>\n",
       "    </tr>\n",
       "    <tr>\n",
       "      <th>6</th>\n",
       "      <td>8</td>\n",
       "      <td>WordPress</td>\n",
       "      <td>Browser</td>\n",
       "      <td>Service.Browser</td>\n",
       "      <td>103</td>\n",
       "    </tr>\n",
       "    <tr>\n",
       "      <th>7</th>\n",
       "      <td>9</td>\n",
       "      <td>WordPress</td>\n",
       "      <td>WordPress</td>\n",
       "      <td>Service.Web</td>\n",
       "      <td>103</td>\n",
       "    </tr>\n",
       "    <tr>\n",
       "      <th>8</th>\n",
       "      <td>10</td>\n",
       "      <td>WordPress</td>\n",
       "      <td>MySQL</td>\n",
       "      <td>Service.DB</td>\n",
       "      <td>103</td>\n",
       "    </tr>\n",
       "  </tbody>\n",
       "</table>\n",
       "</div>"
      ],
      "text/plain": [
       "  Component ID Application         Name             Type App ID\n",
       "0            1   WordPress          CSC             User    103\n",
       "1            3   WordPress  LAN Network          Network    103\n",
       "2            4   WordPress           PC            HW.PC    103\n",
       "3            5   WordPress           OS       Service.OS    103\n",
       "4            6   WordPress       Server        HW.Server    103\n",
       "5            7   WordPress           OS       Service.OS    103\n",
       "6            8   WordPress      Browser  Service.Browser    103\n",
       "7            9   WordPress    WordPress      Service.Web    103\n",
       "8           10   WordPress        MySQL       Service.DB    103"
      ]
     },
     "execution_count": 19,
     "metadata": {},
     "output_type": "execute_result"
    }
   ],
   "source": [
    "macm_df = read_macm(driver)\n",
    "macm_df"
   ]
  },
  {
   "cell_type": "code",
   "execution_count": 20,
   "metadata": {
    "notebookRunGroups": {
     "groupValue": ""
    }
   },
   "outputs": [],
   "source": [
    "clear_database(driver, \"emacm\")\n",
    "create_enhanched_macm_db(driver, attack_pattern_df, threat_catalog_df, macm_df, macm_file, database=\"emacm\")"
   ]
  },
  {
   "cell_type": "code",
   "execution_count": 22,
   "metadata": {},
   "outputs": [
    {
     "data": {
      "application/vnd.jupyter.widget-view+json": {
       "model_id": "b27755a3a2b34652ad677f48cb37028d",
       "version_major": 2,
       "version_minor": 0
      },
      "text/plain": [
       "GraphWidget(layout=Layout(height='800px', width='100%'))"
      ]
     },
     "metadata": {},
     "output_type": "display_data"
    }
   ],
   "source": [
    "with driver.session(database=\"emacm\") as session:\n",
    "    query_out = session.run(\"MATCH a=((n)-[r1]->(p)) RETURN a\").graph()\n",
    "emacm_graph = GraphWidget(graph=query_out)\n",
    "emacm_graph.directed = True\n",
    "emacm_graph.set_sidebar(enabled=True, start_with=\"Neighborhood\")\n",
    "emacm_graph.set_node_label_mapping(lambda index, node : truncate_string_middle(node[\"properties\"][node_styles.get(node[\"properties\"][\"label\"], {\"label\":\"label\"})[\"label\"]], 15))\n",
    "emacm_graph.show()"
   ]
  }
 ],
 "metadata": {
  "kernelspec": {
   "display_name": "AttackGraphGen",
   "language": "python",
   "name": "python3"
  },
  "language_info": {
   "codemirror_mode": {
    "name": "ipython",
    "version": 3
   },
   "file_extension": ".py",
   "mimetype": "text/x-python",
   "name": "python",
   "nbconvert_exporter": "python",
   "pygments_lexer": "ipython3",
   "version": "3.13.0"
  },
  "orig_nbformat": 4
 },
 "nbformat": 4,
 "nbformat_minor": 2
}
